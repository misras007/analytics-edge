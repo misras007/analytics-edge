{
    "nbformat_minor": 1, 
    "cells": [
        {
            "execution_count": 48, 
            "cell_type": "code", 
            "metadata": {}, 
            "outputs": [], 
            "source": "from bs4 import BeautifulSoup\nimport requests\nimport csv\nimport json\nimport xml\nimport pandas as pd\n\nwikipedia_link='https://en.wikipedia.org/wiki/List_of_postal_codes_of_Canada:_M'\nraw_wikipedia_page= requests.get(wikipedia_link).text\n\nsoup = BeautifulSoup(raw_wikipedia_page,'lxml')"
        }, 
        {
            "execution_count": 49, 
            "cell_type": "code", 
            "metadata": {}, 
            "outputs": [
                {
                    "output_type": "stream", 
                    "name": "stdout", 
                    "text": "Postcode: ['M3A', 'M4A', 'M5A', 'M5A', 'M6A', 'M6A', 'M9A', 'M1B', 'M1B', 'M4B', 'M4B', 'M5B', 'M6B', 'M9B', 'M9B', 'M9B', 'M1C', 'M1C', 'M1C', 'M3C', 'M4C', 'M5C', 'M9C', 'M1E', 'M1E', 'M4E', 'M5E', 'M1G', 'M4G', 'M1H', 'M2H', 'M3H', 'M3H', 'M4H', 'M5H', 'M5H', 'M6H', 'M1J', 'M2J', 'M3J', 'M3J', 'M4J', 'M5J', 'M5J', 'M6J', 'M6J', 'M1K', 'M1K', 'M2K', 'M3K', 'M4K', 'M5K', 'M5K', 'M6K', 'M6K', 'M1L', 'M1L', 'M1L', 'M2L', 'M2L', 'M3L', 'M4L', 'M5L', 'M6L', 'M9L', 'M1M', 'M1M', 'M2M', 'M2M', 'M5M', 'M6M', 'M6M', 'M6M', 'M9M', 'M9M', 'M1N', 'M4N', 'M9N', 'M1P', 'M1P', 'M1P', 'M5P', 'M6P', 'M9P', 'M1R', 'M1R', 'M2R', 'M5R', 'M5R', 'M6R', 'M6R', 'M9R', 'M1S', 'M5S', 'M6S', 'M6S', 'M1T', 'M4T', 'M5T', 'M5T', 'M5T', 'M1V', 'M1V', 'M4V', 'M4V', 'M4V', 'M5V', 'M5V', 'M5V', 'M5V', 'M8V', 'M9V', 'M9V', 'M9V', 'M9V', 'M9V', 'M9V', 'M1W', 'M4W', 'M8W', 'M8W', 'M9W', 'M1X', 'M4X', 'M4X', 'M5X', 'M5X', 'M8X', 'M4Y', 'M8Y', 'M8Y', 'M8Y', 'M8Y', 'M8Y', 'M8Y', 'M8Y', 'M8Z', 'M8Z', 'M8Z']\nBorough: ['North York', 'North York', 'Downtown Toronto', 'Downtown Toronto', 'North York', 'North York', 'Etobicoke', 'Scarborough', 'Scarborough', 'East York', 'East York', 'Downtown Toronto', 'North York', 'Etobicoke', 'Etobicoke', 'Etobicoke', 'Scarborough', 'Scarborough', 'Scarborough', 'North York', 'East York', 'Downtown Toronto', 'Etobicoke', 'Scarborough', 'Scarborough', 'East Toronto', 'Downtown Toronto', 'Scarborough', 'East York', 'Scarborough', 'North York', 'North York', 'North York', 'East York', 'Downtown Toronto', 'Downtown Toronto', 'West Toronto', 'Scarborough', 'North York', 'North York', 'North York', 'East York', 'Downtown Toronto', 'Downtown Toronto', 'West Toronto', 'West Toronto', 'Scarborough', 'Scarborough', 'North York', 'North York', 'East Toronto', 'Downtown Toronto', 'Downtown Toronto', 'West Toronto', 'West Toronto', 'Scarborough', 'Scarborough', 'Scarborough', 'North York', 'North York', 'North York', 'East Toronto', 'Downtown Toronto', 'North York', 'North York', 'Scarborough', 'Scarborough', 'North York', 'North York', 'North York', 'York', 'York', 'York', 'North York', 'North York', 'Scarborough', 'Central Toronto', 'York', 'Scarborough', 'Scarborough', 'Scarborough', 'Central Toronto', 'West Toronto', 'Etobicoke', 'Scarborough', 'Scarborough', 'North York', 'Central Toronto', 'Central Toronto', 'West Toronto', 'West Toronto', 'Etobicoke', 'Scarborough', 'Downtown Toronto', 'West Toronto', 'West Toronto', 'Scarborough', 'Central Toronto', 'Downtown Toronto', 'Downtown Toronto', 'Downtown Toronto', 'Scarborough', 'Scarborough', 'Central Toronto', 'Central Toronto', 'Central Toronto', 'Downtown Toronto', 'Downtown Toronto', 'Downtown Toronto', 'Downtown Toronto', 'Etobicoke', 'Etobicoke', 'Etobicoke', 'Etobicoke', 'Etobicoke', 'Etobicoke', 'Etobicoke', 'Scarborough', 'Downtown Toronto', 'Etobicoke', 'Etobicoke', 'Etobicoke', 'Scarborough', 'Downtown Toronto', 'Downtown Toronto', 'Downtown Toronto', 'Downtown Toronto', 'Etobicoke', 'Downtown Toronto', 'Etobicoke', 'Etobicoke', 'Etobicoke', 'Etobicoke', 'Etobicoke', 'Etobicoke', 'Etobicoke', 'Etobicoke', 'Etobicoke', 'Etobicoke']\n"
                }
            ], 
            "source": "table = soup.find('table')\n\nPostcode      = []\nBorough       = []\nNeighbourhood = []\n\n#print(table)\n\nfor tr_cell in table.find_all('tr'):\n    \n    counter = 1\n    Postcode_var      = -1\n    Borough_var       = -1\n    Neighbourhood_var = -1\n    \n    for td_cell in tr_cell.find_all('td'):\n        if counter == 1: \n            Postcode_var = td_cell.text\n        if counter == 2: \n            Borough_var = td_cell.text\n            tag_a_Borough = td_cell.find('a')\n            \n        if counter == 3: \n            Neighbourhood_var = str(td_cell.text).strip()\n            tag_a_Neighbourhood = td_cell.find('a')\n            \n        counter +=1\n        \n    if (Postcode_var == 'Not assigned' or Borough_var == 'Not assigned' or Neighbourhood_var == 'Not assigned'): \n        continue\n    try:\n        if ((tag_a_Borough is None) or (tag_a_Neighbourhood is None)):\n            continue\n    except:\n        pass\n    if(Postcode_var == -1 or Borough_var == -1 or Neighbourhood_var == -1):\n        continue\n        \n    Postcode.append(Postcode_var)\n    Borough.append(Borough_var)\n    Neighbourhood.append(Neighbourhood_var)\n    \nprint('Postcode:',Postcode)\nprint('Borough:',Borough)"
        }, 
        {
            "execution_count": 50, 
            "cell_type": "code", 
            "metadata": {}, 
            "outputs": [
                {
                    "output_type": "stream", 
                    "name": "stdout", 
                    "text": "['Mimico NW, The Queensway West, South of Bloor', 'Clairlea, Golden Mile, Oakridge', 'Kingsview Village', 'Design Exchange, Toronto Dominion Centre', 'Commerce Court', 'Woodbine Gardens, Parkview Hill', 'Deer Park, Rathnelly, South Hill', 'Willowdale West', 'CN Tower, King and Spadina, Railway Lands, South Niagara', 'Beaumond Heights, Jamestown, Mount Olive, Silverstone, South Steeles, Thistletown', 'Cabbagetown, St. James Town', 'Bayview Village', 'Berczy Park', 'Parkdale, Roncesvalles', 'Glencairn', 'Steeles West', 'Adelaide, King', 'Emery, Humberlea', 'Weston', 'Morningside, West Hill', 'Maryvale, Wexford', 'Bathurst Manor, Wilson Heights', 'Upper Rouge', 'Riverdale', 'St. James Town', 'Exhibition Place, Parkdale Village', 'Ryerson', 'Westmount', 'Rouge, Malvern', 'Woburn', 'Scarborough Village', 'Ionview, Kennedy Park', 'Islington, Princess Gardens, West Deane Park', \"Tam O'Shanter\", 'Victoria Village', 'East Toronto', 'New Toronto', 'Parkwoods', 'Little Portugal, Trinity', 'CFB Toronto', 'Keelesdale, Mount Dennis, Silverthorn', 'Alderwood, Long Branch', 'Church and Wellesley', 'Northwood Park, York University', 'Thorncliffe Park', 'Forest Hill North', 'Islington Avenue', 'Newtonbrook, Willowdale', 'Highland Creek, Rouge Hill, Port Union', 'Maple Leaf Park', 'Agincourt North, Milliken', 'Downsview West', 'India Bazaar', 'Markland Wood', 'Bedford Park', 'Flemingdon Park', 'Birch Cliff', 'University of Toronto', 'Northwest', 'The Beaches', 'First Canadian Place, Underground city', 'Dorset Park, Scarborough Town Centre, Wexford Heights', 'Leaside', 'Moore Park', 'Woodbine Heights', 'Agincourt', 'Silver Hills, York Mills', 'The Kingsway', \"Humber Bay, King's Mill Park, Mimico NE, Old Mill South, The Queensway East, Royal York South East, Sunnylea\", 'Runnymede, Swansea', 'Cedarbrae', 'The Annex, Yorkville', 'Lawrence Park', 'Rosedale', 'Henry Farm', 'Lawrence Heights, Lawrence Manor', 'Toronto Islands, Union Station', 'High Park', 'Hillcrest Village', 'Dovercourt Village', 'Chinatown, Grange Park, Kensington Market', 'Harbourfront, Regent Park', 'Humber Summit', 'Cliffcrest, Cliffside']\n"
                }
            ], 
            "source": "unique_p = set(Postcode)\n# print('num of unique Postal codes:', len(unique_p))\nPostcode_u      = []\nBorough_u       = []\nNeighbourhood_u = []\n\n\nfor postcode_unique_element in unique_p:\n    p_var = ''; b_var = ''; n_var = ''; \n    for postcode_idx, postcode_element in enumerate(Postcode):\n        if postcode_unique_element == postcode_element:\n            p_var = postcode_element;\n            b_var = Borough[postcode_idx]\n            if n_var == '': \n                n_var = Neighbourhood[postcode_idx]\n            else:\n                n_var = n_var + ', ' + Neighbourhood[postcode_idx]\n    Postcode_u.append(p_var)\n    Borough_u.append(b_var)\n    Neighbourhood_u.append(n_var)\nprint(Neighbourhood_u)"
        }, 
        {
            "execution_count": 51, 
            "cell_type": "code", 
            "metadata": {}, 
            "outputs": [
                {
                    "output_type": "stream", 
                    "name": "stdout", 
                    "text": "            Borough                                      Neighbourhood  \\\n0         Etobicoke      Mimico NW, The Queensway West, South of Bloor   \n1       Scarborough                    Clairlea, Golden Mile, Oakridge   \n2         Etobicoke                                  Kingsview Village   \n3  Downtown Toronto           Design Exchange, Toronto Dominion Centre   \n4  Downtown Toronto                                     Commerce Court   \n5         East York                    Woodbine Gardens, Parkview Hill   \n6   Central Toronto                   Deer Park, Rathnelly, South Hill   \n7        North York                                    Willowdale West   \n8  Downtown Toronto  CN Tower, King and Spadina, Railway Lands, Sou...   \n9         Etobicoke  Beaumond Heights, Jamestown, Mount Olive, Silv...   \n\n  Postcode  \n0      M8Z  \n1      M1L  \n2      M9R  \n3      M5K  \n4      M5L  \n5      M4B  \n6      M4V  \n7      M2R  \n8      M5V  \n9      M9V  \n"
                }
            ], 
            "source": "# Make a dataframe for Toronto\ntoronto_dict = {'Postcode':Postcode_u, 'Borough':Borough_u, 'Neighbourhood':Neighbourhood_u}\ndf_toronto = pd.DataFrame.from_dict(toronto_dict)\nprint(df_toronto.head(10))\n"
        }, 
        {
            "execution_count": 55, 
            "cell_type": "code", 
            "metadata": {}, 
            "outputs": [
                {
                    "output_type": "stream", 
                    "name": "stdout", 
                    "text": "Your credentails:\nCLIENT_ID: EP4FEAOCB5CUINQQVPC5GXBD3Z2OA0VX4VHVOOOFBN1NAS0Q\nCLIENT_SECRET:PMTV15VA1UNURG50GTBCDQ3LH3ZO2UJAUNRHZLANYSVJDTTT\n"
                }
            ], 
            "source": "CLIENT_ID = 'EP4FEAOCB5CUINQQVPC5GXBD3Z2OA0VX4VHVOOOFBN1NAS0Q' # your Foursquare ID\nCLIENT_SECRET = 'PMTV15VA1UNURG50GTBCDQ3LH3ZO2UJAUNRHZLANYSVJDTTT' # your Foursquare Secret\nVERSION = '20180604'\nLIMIT = 30\nprint('Your credentails:')\nprint('CLIENT_ID: ' + CLIENT_ID)\nprint('CLIENT_SECRET:' + CLIENT_SECRET)"
        }, 
        {
            "execution_count": 57, 
            "cell_type": "code", 
            "metadata": {}, 
            "outputs": [
                {
                    "output_type": "stream", 
                    "name": "stdout", 
                    "text": "[-79.5524920661167, -79.257774, -79.5524920661167, -79.380219, -79.380219, -79.3278212, -79.3818364, -79.4132998, -79.380219, -79.5524920661167, -79.380219, -79.4132998, -79.380219, -79.387207, -79.4132998, -79.257774, -79.380219, -79.4132998, -79.479188, -79.257774, -79.257774, -79.4132998, -79.257774, -79.387207, -79.380219, -79.387207, -79.380219, -79.5524920661167, -79.257774, -79.257774, -79.257774, -79.257774, -79.5524920661167, -79.257774, -79.4132998, -79.3278212, '', -79.4132998, -79.387207, -79.4132998, -79.479188, -79.5524920661167, -79.380219, -79.4132998, -79.3278212, -79.3818364, -79.5524920661167, -79.4132998, -79.257774, -79.4132998, -79.257774, -79.4132998, -79.387207, -79.5524920661167, -79.4132998, -79.4132998, -79.257774, -79.380219, -79.5524920661167, -79.387207, -79.380219, -79.257774, -79.3278212, -79.3818364, -79.3278212, -79.257774, -79.4132998, '', '', -79.387207, -79.257774, -79.3818364, -79.3818364, -79.380219, -79.4132998, -79.4132998, -79.380219, -79.387207, -79.4132998, -79.387207, -79.380219, -79.380219, -79.4132998, -79.257774]\n"
                }, 
                {
                    "execution_count": 57, 
                    "metadata": {}, 
                    "data": {
                        "text/plain": "(84, 3)"
                    }, 
                    "output_type": "execute_result"
                }
            ], 
            "source": "# tranforming json file into a pandas dataframe library\nfrom pandas.io.json import json_normalize\nimport math\nlatitude_u=[]\nlongitude_u=[]\n\n#print(df_toronto)\nfor index, row in df_toronto.iterrows():\n    #address=row['Borough']+' ,'+row['Neighbourhood']\n    address=row['Borough']\n    #print(address)\n    geolocator = Nominatim(user_agent=\"foursquare_agent\")\n    location = geolocator.geocode(address+' , Toronto, Ontario')\n    latitude = location.latitude\n    longitude = location.longitude\n    #print('latitude:',latitude,'   longitude:',longitude)\n    # Filter down the query to include neighbourhood\n    search_query=row['Postcode']\n    radius=2000\n    #url = 'https://api.foursquare.com/v2/venues/search?client_id={}&client_secret={}&ll={},{}&v={}&query={}&radius={}&limit={}'.format(CLIENT_ID, CLIENT_SECRET, latitude, longitude, VERSION, search_query, radius, LIMIT)\n    url = 'https://api.foursquare.com/v2/venues/search?client_id={}&client_secret={}&ll={},{}&v={}&query={}&radius={}'.format(CLIENT_ID, CLIENT_SECRET, latitude, longitude, VERSION, search_query, radius)\n    results = requests.get(url).json()\n    #print('----results: ',results)\n    venues = results['response']['venues']\n    df_neighbour = json_normalize(venues)\n    #postalcode of the row\n    postcode=row['Postcode']\n    #print(\"-------- Neighbourhood: \", address,'   ',search_query,'   ',postcode)\n    # new lat long for the postal code\n    lat_post=''\n    long_post=''\n    for index1,row1 in df_neighbour.iterrows():\n        postalcd=''\n        if 'location.postalCode' in df_neighbour.columns:\n            postalcd=str(row1['location.postalCode'])\n            #print('------postalcd:',postalcd)\n        if postcode in postalcd:\n            lat_post=row1['location.lat']\n            long_post=row1['location.lng']\n        else:\n            lat_post=latitude\n            long_post=longitude\n    #print(lat_post,long_post )\n    latitude_u.append(lat_post) #Adding a column in the main dataframe for Latitude  \n    longitude_u.append(long_post) #Adding a column in the main dataframe for Longitude \nprint(longitude_u)"
        }, 
        {
            "execution_count": 60, 
            "cell_type": "code", 
            "metadata": {}, 
            "outputs": [
                {
                    "output_type": "stream", 
                    "name": "stdout", 
                    "text": "            Borough Lattitude Longitude  \\\n0         Etobicoke   43.6715  -79.5525   \n1       Scarborough   43.7731  -79.2578   \n2         Etobicoke   43.6715  -79.5525   \n3  Downtown Toronto   43.6551  -79.3802   \n4  Downtown Toronto   43.6551  -79.3802   \n5         East York   43.6913  -79.3278   \n6   Central Toronto   43.6449  -79.3818   \n7        North York   43.7708  -79.4133   \n8  Downtown Toronto   43.6551  -79.3802   \n9         Etobicoke   43.6715  -79.5525   \n\n                                       Neighbourhood Postcode  \n0      Mimico NW, The Queensway West, South of Bloor      M8Z  \n1                    Clairlea, Golden Mile, Oakridge      M1L  \n2                                  Kingsview Village      M9R  \n3           Design Exchange, Toronto Dominion Centre      M5K  \n4                                     Commerce Court      M5L  \n5                    Woodbine Gardens, Parkview Hill      M4B  \n6                   Deer Park, Rathnelly, South Hill      M4V  \n7                                    Willowdale West      M2R  \n8  CN Tower, King and Spadina, Railway Lands, Sou...      M5V  \n9  Beaumond Heights, Jamestown, Mount Olive, Silv...      M9V  \nshape: (84, 5)\n"
                }
            ], 
            "source": "toronto_dict_updated = {'Postcode':Postcode_u, 'Borough':Borough_u, 'Neighbourhood':Neighbourhood_u, 'Lattitude':latitude_u, 'Longitude':longitude_u}\ndf_toronto_updated = pd.DataFrame.from_dict(toronto_dict_updated)\nprint(df_toronto_updated.head(10))\nprint('shape:',df_toronto_updated.shape)"
        }, 
        {
            "execution_count": null, 
            "cell_type": "code", 
            "metadata": {}, 
            "outputs": [], 
            "source": ""
        }
    ], 
    "metadata": {
        "kernelspec": {
            "display_name": "Python 3.5", 
            "name": "python3", 
            "language": "python"
        }
    }, 
    "nbformat": 4
}